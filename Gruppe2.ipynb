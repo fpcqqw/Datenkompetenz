{
 "cells": [
  {
   "attachments": {},
   "cell_type": "markdown",
   "metadata": {},
   "source": [
    "# Gruppenarbeit 2 (Störfaktoren)"
   ]
  },
  {
   "attachments": {},
   "cell_type": "markdown",
   "metadata": {},
   "source": [
    "#### Gegeben ist ein Datensatz, der Daten über den Verkauf von Ice Cream, die Temperatur, die Zahl der Ertrinkenden und die Luftfeuchtigkeit enthält."
   ]
  },
  {
   "attachments": {},
   "cell_type": "markdown",
   "metadata": {},
   "source": [
    "Quelle: https://notebook.community/gregunz/ada2017/exam/data_cluedo/2-icecream"
   ]
  },
  {
   "cell_type": "code",
   "execution_count": 17,
   "metadata": {},
   "outputs": [
    {
     "data": {
      "text/html": [
       "<div>\n",
       "<style scoped>\n",
       "    .dataframe tbody tr th:only-of-type {\n",
       "        vertical-align: middle;\n",
       "    }\n",
       "\n",
       "    .dataframe tbody tr th {\n",
       "        vertical-align: top;\n",
       "    }\n",
       "\n",
       "    .dataframe thead th {\n",
       "        text-align: right;\n",
       "    }\n",
       "</style>\n",
       "<table border=\"1\" class=\"dataframe\">\n",
       "  <thead>\n",
       "    <tr style=\"text-align: right;\">\n",
       "      <th></th>\n",
       "      <th>month</th>\n",
       "      <th>ice_cream_sales</th>\n",
       "      <th>temperature</th>\n",
       "      <th>deaths_drowning</th>\n",
       "      <th>humidity</th>\n",
       "    </tr>\n",
       "  </thead>\n",
       "  <tbody>\n",
       "    <tr>\n",
       "      <th>0</th>\n",
       "      <td>1</td>\n",
       "      <td>82</td>\n",
       "      <td>55</td>\n",
       "      <td>4</td>\n",
       "      <td>70</td>\n",
       "    </tr>\n",
       "    <tr>\n",
       "      <th>1</th>\n",
       "      <td>2</td>\n",
       "      <td>83</td>\n",
       "      <td>58</td>\n",
       "      <td>4</td>\n",
       "      <td>70</td>\n",
       "    </tr>\n",
       "    <tr>\n",
       "      <th>2</th>\n",
       "      <td>3</td>\n",
       "      <td>84</td>\n",
       "      <td>60</td>\n",
       "      <td>5</td>\n",
       "      <td>20</td>\n",
       "    </tr>\n",
       "    <tr>\n",
       "      <th>3</th>\n",
       "      <td>4</td>\n",
       "      <td>93</td>\n",
       "      <td>75</td>\n",
       "      <td>8</td>\n",
       "      <td>50</td>\n",
       "    </tr>\n",
       "    <tr>\n",
       "      <th>4</th>\n",
       "      <td>5</td>\n",
       "      <td>91</td>\n",
       "      <td>68</td>\n",
       "      <td>9</td>\n",
       "      <td>20</td>\n",
       "    </tr>\n",
       "  </tbody>\n",
       "</table>\n",
       "</div>"
      ],
      "text/plain": [
       "   month  ice_cream_sales  temperature  deaths_drowning  humidity\n",
       "0      1               82           55                4        70\n",
       "1      2               83           58                4        70\n",
       "2      3               84           60                5        20\n",
       "3      4               93           75                8        50\n",
       "4      5               91           68                9        20"
      ]
     },
     "execution_count": 17,
     "metadata": {},
     "output_type": "execute_result"
    }
   ],
   "source": [
    "import pandas as pd\n",
    "df = pd.read_csv(\"Gruppe2_Daten.csv\").drop(\"Unnamed: 5\", axis=1)\n",
    "df.head()"
   ]
  },
  {
   "attachments": {},
   "cell_type": "markdown",
   "metadata": {},
   "source": [
    "Aufgabe 1: Berechne die Korrelation der zwei gezeigten Spalten im Graphen. Was siehst du?"
   ]
  },
  {
   "cell_type": "code",
   "execution_count": 18,
   "metadata": {},
   "outputs": [
    {
     "data": {
      "image/png": "[encoded data removed]",
      "text/plain": [
       "<Figure size 432x288 with 2 Axes>"
      ]
     },
     "metadata": {
      "needs_background": "light"
     },
     "output_type": "display_data"
    }
   ],
   "source": [
    "import matplotlib.pyplot as plt\n",
    "\n",
    "fig, ax1 = plt.subplots()\n",
    "\n",
    "ax2 = ax1.twinx()\n",
    "ax1.plot(df['month'], df['ice_cream_sales'], 'g-')\n",
    "ax2.plot(df['month'], df['deaths_drowning'], 'b-')\n",
    "\n",
    "ax1.set_xlabel('Month')\n",
    "ax1.set_ylabel('Ice Cream Sales', color='g')\n",
    "ax2.set_ylabel('Deaths by Drowning', color='b')\n",
    "\n",
    "plt.show()"
   ]
  },
  {
   "attachments": {},
   "cell_type": "markdown",
   "metadata": {},
   "source": [
    "    Lösung:"
   ]
  },
  {
   "cell_type": "code",
   "execution_count": 16,
   "metadata": {},
   "outputs": [
    {
     "data": {
      "text/html": [
       "<div>\n",
       "<style scoped>\n",
       "    .dataframe tbody tr th:only-of-type {\n",
       "        vertical-align: middle;\n",
       "    }\n",
       "\n",
       "    .dataframe tbody tr th {\n",
       "        vertical-align: top;\n",
       "    }\n",
       "\n",
       "    .dataframe thead th {\n",
       "        text-align: right;\n",
       "    }\n",
       "</style>\n",
       "<table border=\"1\" class=\"dataframe\">\n",
       "  <thead>\n",
       "    <tr style=\"text-align: right;\">\n",
       "      <th></th>\n",
       "      <th>ice_cream_sales</th>\n",
       "      <th>deaths_drowning</th>\n",
       "    </tr>\n",
       "  </thead>\n",
       "  <tbody>\n",
       "    <tr>\n",
       "      <th>ice_cream_sales</th>\n",
       "      <td>1.00000</td>\n",
       "      <td>0.95249</td>\n",
       "    </tr>\n",
       "    <tr>\n",
       "      <th>deaths_drowning</th>\n",
       "      <td>0.95249</td>\n",
       "      <td>1.00000</td>\n",
       "    </tr>\n",
       "  </tbody>\n",
       "</table>\n",
       "</div>"
      ],
      "text/plain": [
       "                 ice_cream_sales  deaths_drowning\n",
       "ice_cream_sales          1.00000          0.95249\n",
       "deaths_drowning          0.95249          1.00000"
      ]
     },
     "execution_count": 16,
     "metadata": {},
     "output_type": "execute_result"
    }
   ],
   "source": [
    "df[[\"ice_cream_sales\", \"deaths_drowning\"]].corr()"
   ]
  },
  {
   "attachments": {},
   "cell_type": "markdown",
   "metadata": {},
   "source": [
    "Aufgabe 2: Schau dir den neuen Plot an. Was siehst du? Welches der vorgestellten Konzepte könnte zu diesem Fall passen? Schau dir zur Hilfe die Korrelation aller Spalten an."
   ]
  },
  {
   "cell_type": "code",
   "execution_count": 22,
   "metadata": {},
   "outputs": [
    {
     "data": {
      "image/png": "[encoded data removed]",
      "text/plain": [
       "<Figure size 432x288 with 2 Axes>"
      ]
     },
     "metadata": {
      "needs_background": "light"
     },
     "output_type": "display_data"
    }
   ],
   "source": [
    "plt.scatter(df[\"ice_cream_sales\"], df[\"deaths_drowning\"], c=df[\"month\"])\n",
    "plt.xlabel(\"Ice Cream Sales\")\n",
    "plt.ylabel(\"Deaths Drowning\")\n",
    "plt.colorbar(label=\"Month\")\n",
    "plt.show()"
   ]
  },
  {
   "attachments": {},
   "cell_type": "markdown",
   "metadata": {},
   "source": [
    "    Lösung:"
   ]
  },
  {
   "cell_type": "code",
   "execution_count": 19,
   "metadata": {},
   "outputs": [
    {
     "data": {
      "text/html": [
       "<div>\n",
       "<style scoped>\n",
       "    .dataframe tbody tr th:only-of-type {\n",
       "        vertical-align: middle;\n",
       "    }\n",
       "\n",
       "    .dataframe tbody tr th {\n",
       "        vertical-align: top;\n",
       "    }\n",
       "\n",
       "    .dataframe thead th {\n",
       "        text-align: right;\n",
       "    }\n",
       "</style>\n",
       "<table border=\"1\" class=\"dataframe\">\n",
       "  <thead>\n",
       "    <tr style=\"text-align: right;\">\n",
       "      <th></th>\n",
       "      <th>month</th>\n",
       "      <th>ice_cream_sales</th>\n",
       "      <th>temperature</th>\n",
       "      <th>deaths_drowning</th>\n",
       "      <th>humidity</th>\n",
       "    </tr>\n",
       "  </thead>\n",
       "  <tbody>\n",
       "    <tr>\n",
       "      <th>month</th>\n",
       "      <td>1.000000</td>\n",
       "      <td>-0.164441</td>\n",
       "      <td>-0.207638</td>\n",
       "      <td>-0.051340</td>\n",
       "      <td>-0.481519</td>\n",
       "    </tr>\n",
       "    <tr>\n",
       "      <th>ice_cream_sales</th>\n",
       "      <td>-0.164441</td>\n",
       "      <td>1.000000</td>\n",
       "      <td>0.937996</td>\n",
       "      <td>0.952490</td>\n",
       "      <td>0.083232</td>\n",
       "    </tr>\n",
       "    <tr>\n",
       "      <th>temperature</th>\n",
       "      <td>-0.207638</td>\n",
       "      <td>0.937996</td>\n",
       "      <td>1.000000</td>\n",
       "      <td>0.950942</td>\n",
       "      <td>0.191497</td>\n",
       "    </tr>\n",
       "    <tr>\n",
       "      <th>deaths_drowning</th>\n",
       "      <td>-0.051340</td>\n",
       "      <td>0.952490</td>\n",
       "      <td>0.950942</td>\n",
       "      <td>1.000000</td>\n",
       "      <td>0.080003</td>\n",
       "    </tr>\n",
       "    <tr>\n",
       "      <th>humidity</th>\n",
       "      <td>-0.481519</td>\n",
       "      <td>0.083232</td>\n",
       "      <td>0.191497</td>\n",
       "      <td>0.080003</td>\n",
       "      <td>1.000000</td>\n",
       "    </tr>\n",
       "  </tbody>\n",
       "</table>\n",
       "</div>"
      ],
      "text/plain": [
       "                    month  ice_cream_sales  temperature  deaths_drowning  \\\n",
       "month            1.000000        -0.164441    -0.207638        -0.051340   \n",
       "ice_cream_sales -0.164441         1.000000     0.937996         0.952490   \n",
       "temperature     -0.207638         0.937996     1.000000         0.950942   \n",
       "deaths_drowning -0.051340         0.952490     0.950942         1.000000   \n",
       "humidity        -0.481519         0.083232     0.191497         0.080003   \n",
       "\n",
       "                 humidity  \n",
       "month           -0.481519  \n",
       "ice_cream_sales  0.083232  \n",
       "temperature      0.191497  \n",
       "deaths_drowning  0.080003  \n",
       "humidity         1.000000  "
      ]
     },
     "execution_count": 19,
     "metadata": {},
     "output_type": "execute_result"
    }
   ],
   "source": [
    "df.corr()"
   ]
  }
 ],
 "metadata": {
  "kernelspec": {
   "display_name": "base",
   "language": "python",
   "name": "python3"
  },
  "language_info": {
   "codemirror_mode": {
    "name": "ipython",
    "version": 3
   },
   "file_extension": ".py",
   "mimetype": "text/x-python",
   "name": "python",
   "nbconvert_exporter": "python",
   "pygments_lexer": "ipython3",
   "version": "3.9.12"
  },
  "orig_nbformat": 4
 },
 "nbformat": 4,
 "nbformat_minor": 2
}
